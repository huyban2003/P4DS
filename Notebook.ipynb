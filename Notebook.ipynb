{
 "cells": [
  {
   "cell_type": "markdown",
   "metadata": {},
   "source": [
    "# **Programming for Data Science - 21KHDL1**\n",
    "# **Final Project**\n",
    "# **Topic:** Life Expectancy (WHO)\n",
    "\n",
    "---\n",
    "\n",
    "### **Student Information**:\n",
    "\n",
    "StudentID|Full Name\n",
    "-|-\n",
    "21127012|Tran Huy Ban\n",
    "21127143|Nguyen Minh Quan\n",
    "\n",
    "<br>\n",
    "\n",
    "---"
   ]
  },
  {
   "cell_type": "markdown",
   "metadata": {},
   "source": [
    "## **Table of contents**\n",
    "\n",
    "[Overview](#overview)\n",
    "\n",
    "[Data Collection](#collect)\n",
    "\n",
    "[Data Pre-processing and Exploration](#pre-process_explore)\n",
    "\n",
    "[Quickview of the data](#quickview)\n",
    "\n",
    "[Questions](#quesion)\n",
    "\n",
    "[Reflection](#reflection)\n",
    "\n",
    "[References](#references)\n",
    "\n",
    "---"
   ]
  },
  {
   "cell_type": "markdown",
   "metadata": {},
   "source": [
    "## **Overview** <a name=\"overview\"></a>"
   ]
  },
  {
   "cell_type": "markdown",
   "metadata": {},
   "source": [
    "<center>\n",
    "<h3>\n",
    "    <b>\n",
    "     Demography: learn about the population and economic situation as well as related issues of countries around the world\n",
    "    </b>\n",
    "</h3>\n",
    "    <img style=\"padding:10px\" src=\"https://www.questionpro.com/blog/wp-content/uploads/2018/04/demographic_segmentation_examples.jpg\" width=\"450\"/>\n",
    "</center>\n",
    "Demography is the statistical study of human populations. Demography examines the size, structure, and movements of populations over space and time. It uses methods from history, economics, anthropology, sociology, and other fields. Demography is useful for governments and private businesses as a means of analyzing and predicting social, cultural, and economic trends related to population.\n",
    "\n",
    "---"
   ]
  },
  {
   "cell_type": "markdown",
   "metadata": {},
   "source": [
    "### **Libraries used**"
   ]
  },
  {
   "cell_type": "code",
   "execution_count": 35,
   "metadata": {},
   "outputs": [],
   "source": [
    "import pandas as pd\n",
    "import numpy as np\n",
    "import matplotlib.pyplot as plt\n",
    "import seaborn as sns\n",
    "import warnings\n",
    "warnings.filterwarnings('ignore')"
   ]
  },
  {
   "cell_type": "markdown",
   "metadata": {},
   "source": [
    "---"
   ]
  },
  {
   "cell_type": "markdown",
   "metadata": {},
   "source": [
    "## **Data Collection** <a name=\"collect\"></a>"
   ]
  },
  {
   "cell_type": "markdown",
   "metadata": {},
   "source": [
    "- **Data about**: The data-set related to life expectancy, health factors for 193 countries has been collected from the same WHO data repository website and its corresponding economic data was collected from United Nation website. Among all categories of health-related factors only those critical factors were chosen which are more representative. This dataset has considered data from year 2000-2015 for 193 countries  \n",
    "\n",
    "- **Source**: From Kaggle \n",
    "\n",
    "- **Collect data and License**: The project relies on accuracy of data. The Global Health Observatory (GHO) data repository under World Health Organization (WHO) keeps track of the health status as well as many other related factors for all countries and collected from the same WHO data repository website and its corresponding economic data was collected from United Nation website with the help of Deeksha Russell and Duan Wang."
   ]
  },
  {
   "cell_type": "code",
   "execution_count": 36,
   "metadata": {},
   "outputs": [
    {
     "data": {
      "text/html": [
       "<div>\n",
       "<style scoped>\n",
       "    .dataframe tbody tr th:only-of-type {\n",
       "        vertical-align: middle;\n",
       "    }\n",
       "\n",
       "    .dataframe tbody tr th {\n",
       "        vertical-align: top;\n",
       "    }\n",
       "\n",
       "    .dataframe thead th {\n",
       "        text-align: right;\n",
       "    }\n",
       "</style>\n",
       "<table border=\"1\" class=\"dataframe\">\n",
       "  <thead>\n",
       "    <tr style=\"text-align: right;\">\n",
       "      <th></th>\n",
       "      <th>Country</th>\n",
       "      <th>Year</th>\n",
       "      <th>Status</th>\n",
       "      <th>Life expectancy</th>\n",
       "      <th>Adult Mortality</th>\n",
       "      <th>infant deaths</th>\n",
       "      <th>Alcohol</th>\n",
       "      <th>percentage expenditure</th>\n",
       "      <th>Hepatitis B</th>\n",
       "      <th>Measles</th>\n",
       "      <th>...</th>\n",
       "      <th>Polio</th>\n",
       "      <th>Total expenditure</th>\n",
       "      <th>Diphtheria</th>\n",
       "      <th>HIV/AIDS</th>\n",
       "      <th>GDP</th>\n",
       "      <th>Population</th>\n",
       "      <th>thinness 10-19 years</th>\n",
       "      <th>thinness 5-9 years</th>\n",
       "      <th>Income composition of resources</th>\n",
       "      <th>Schooling</th>\n",
       "    </tr>\n",
       "  </thead>\n",
       "  <tbody>\n",
       "    <tr>\n",
       "      <th>0</th>\n",
       "      <td>Afghanistan</td>\n",
       "      <td>2015</td>\n",
       "      <td>Developing</td>\n",
       "      <td>65.0</td>\n",
       "      <td>263.0</td>\n",
       "      <td>62</td>\n",
       "      <td>0.01</td>\n",
       "      <td>71.279624</td>\n",
       "      <td>65.0</td>\n",
       "      <td>1154</td>\n",
       "      <td>...</td>\n",
       "      <td>6.0</td>\n",
       "      <td>8.16</td>\n",
       "      <td>65.0</td>\n",
       "      <td>0.1</td>\n",
       "      <td>584.259210</td>\n",
       "      <td>33736494.0</td>\n",
       "      <td>17.2</td>\n",
       "      <td>17.3</td>\n",
       "      <td>0.479</td>\n",
       "      <td>10.1</td>\n",
       "    </tr>\n",
       "    <tr>\n",
       "      <th>1</th>\n",
       "      <td>Afghanistan</td>\n",
       "      <td>2014</td>\n",
       "      <td>Developing</td>\n",
       "      <td>59.9</td>\n",
       "      <td>271.0</td>\n",
       "      <td>64</td>\n",
       "      <td>0.01</td>\n",
       "      <td>73.523582</td>\n",
       "      <td>62.0</td>\n",
       "      <td>492</td>\n",
       "      <td>...</td>\n",
       "      <td>58.0</td>\n",
       "      <td>8.18</td>\n",
       "      <td>62.0</td>\n",
       "      <td>0.1</td>\n",
       "      <td>612.696514</td>\n",
       "      <td>327582.0</td>\n",
       "      <td>17.5</td>\n",
       "      <td>17.5</td>\n",
       "      <td>0.476</td>\n",
       "      <td>10.0</td>\n",
       "    </tr>\n",
       "    <tr>\n",
       "      <th>2</th>\n",
       "      <td>Afghanistan</td>\n",
       "      <td>2013</td>\n",
       "      <td>Developing</td>\n",
       "      <td>59.9</td>\n",
       "      <td>268.0</td>\n",
       "      <td>66</td>\n",
       "      <td>0.01</td>\n",
       "      <td>73.219243</td>\n",
       "      <td>64.0</td>\n",
       "      <td>430</td>\n",
       "      <td>...</td>\n",
       "      <td>62.0</td>\n",
       "      <td>8.13</td>\n",
       "      <td>64.0</td>\n",
       "      <td>0.1</td>\n",
       "      <td>631.744976</td>\n",
       "      <td>31731688.0</td>\n",
       "      <td>17.7</td>\n",
       "      <td>17.7</td>\n",
       "      <td>0.470</td>\n",
       "      <td>9.9</td>\n",
       "    </tr>\n",
       "    <tr>\n",
       "      <th>3</th>\n",
       "      <td>Afghanistan</td>\n",
       "      <td>2012</td>\n",
       "      <td>Developing</td>\n",
       "      <td>59.5</td>\n",
       "      <td>272.0</td>\n",
       "      <td>69</td>\n",
       "      <td>0.01</td>\n",
       "      <td>78.184215</td>\n",
       "      <td>67.0</td>\n",
       "      <td>2787</td>\n",
       "      <td>...</td>\n",
       "      <td>67.0</td>\n",
       "      <td>8.52</td>\n",
       "      <td>67.0</td>\n",
       "      <td>0.1</td>\n",
       "      <td>669.959000</td>\n",
       "      <td>3696958.0</td>\n",
       "      <td>17.9</td>\n",
       "      <td>18.0</td>\n",
       "      <td>0.463</td>\n",
       "      <td>9.8</td>\n",
       "    </tr>\n",
       "    <tr>\n",
       "      <th>4</th>\n",
       "      <td>Afghanistan</td>\n",
       "      <td>2011</td>\n",
       "      <td>Developing</td>\n",
       "      <td>59.2</td>\n",
       "      <td>275.0</td>\n",
       "      <td>71</td>\n",
       "      <td>0.01</td>\n",
       "      <td>7.097109</td>\n",
       "      <td>68.0</td>\n",
       "      <td>3013</td>\n",
       "      <td>...</td>\n",
       "      <td>68.0</td>\n",
       "      <td>7.87</td>\n",
       "      <td>68.0</td>\n",
       "      <td>0.1</td>\n",
       "      <td>63.537231</td>\n",
       "      <td>2978599.0</td>\n",
       "      <td>18.2</td>\n",
       "      <td>18.2</td>\n",
       "      <td>0.454</td>\n",
       "      <td>9.5</td>\n",
       "    </tr>\n",
       "  </tbody>\n",
       "</table>\n",
       "<p>5 rows × 22 columns</p>\n",
       "</div>"
      ],
      "text/plain": [
       "       Country  Year      Status  Life expectancy   Adult Mortality  \\\n",
       "0  Afghanistan  2015  Developing              65.0            263.0   \n",
       "1  Afghanistan  2014  Developing              59.9            271.0   \n",
       "2  Afghanistan  2013  Developing              59.9            268.0   \n",
       "3  Afghanistan  2012  Developing              59.5            272.0   \n",
       "4  Afghanistan  2011  Developing              59.2            275.0   \n",
       "\n",
       "   infant deaths  Alcohol  percentage expenditure  Hepatitis B  Measles  ...  \\\n",
       "0             62     0.01               71.279624         65.0     1154  ...   \n",
       "1             64     0.01               73.523582         62.0      492  ...   \n",
       "2             66     0.01               73.219243         64.0      430  ...   \n",
       "3             69     0.01               78.184215         67.0     2787  ...   \n",
       "4             71     0.01                7.097109         68.0     3013  ...   \n",
       "\n",
       "   Polio  Total expenditure  Diphtheria  HIV/AIDS         GDP  Population  \\\n",
       "0    6.0               8.16        65.0       0.1  584.259210  33736494.0   \n",
       "1   58.0               8.18        62.0       0.1  612.696514    327582.0   \n",
       "2   62.0               8.13        64.0       0.1  631.744976  31731688.0   \n",
       "3   67.0               8.52        67.0       0.1  669.959000   3696958.0   \n",
       "4   68.0               7.87        68.0       0.1   63.537231   2978599.0   \n",
       "\n",
       "   thinness 10-19 years  thinness 5-9 years  Income composition of resources  \\\n",
       "0                  17.2                17.3                            0.479   \n",
       "1                  17.5                17.5                            0.476   \n",
       "2                  17.7                17.7                            0.470   \n",
       "3                  17.9                18.0                            0.463   \n",
       "4                  18.2                18.2                            0.454   \n",
       "\n",
       "   Schooling  \n",
       "0       10.1  \n",
       "1       10.0  \n",
       "2        9.9  \n",
       "3        9.8  \n",
       "4        9.5  \n",
       "\n",
       "[5 rows x 22 columns]"
      ]
     },
     "execution_count": 36,
     "metadata": {},
     "output_type": "execute_result"
    }
   ],
   "source": [
    "df = pd.read_csv('Data/LifeExpectancyData.csv')\n",
    "df.head()"
   ]
  },
  {
   "cell_type": "markdown",
   "metadata": {},
   "source": [
    "---"
   ]
  },
  {
   "cell_type": "markdown",
   "metadata": {},
   "source": [
    "## **Data Pre-processing and Exploration** <a name=\"pre-process_explore\"></a>"
   ]
  },
  {
   "cell_type": "markdown",
   "metadata": {},
   "source": [
    "**1. Firstly, we should find out what our dataset contains.**"
   ]
  },
  {
   "cell_type": "code",
   "execution_count": 37,
   "metadata": {},
   "outputs": [
    {
     "data": {
      "text/plain": [
       "(2938, 22)"
      ]
     },
     "execution_count": 37,
     "metadata": {},
     "output_type": "execute_result"
    }
   ],
   "source": [
    "df.shape"
   ]
  },
  {
   "cell_type": "markdown",
   "metadata": {},
   "source": [
    "So in this Dataset, we have:\n",
    "- **2938 rows**\n",
    "- **22 columns**"
   ]
  },
  {
   "cell_type": "markdown",
   "metadata": {},
   "source": [
    "**2. What is the meaning of each row ?**"
   ]
  },
  {
   "cell_type": "markdown",
   "metadata": {},
   "source": [
    "Each data line represents demographic information and details on population, demographics, and economic status of **each country** for **each year**."
   ]
  },
  {
   "cell_type": "markdown",
   "metadata": {},
   "source": [
    "**3. Does the data have duplicate rows ?**\n"
   ]
  },
  {
   "cell_type": "code",
   "execution_count": 38,
   "metadata": {},
   "outputs": [
    {
     "name": "stdout",
     "output_type": "stream",
     "text": [
      "No duplicate rows found\n"
     ]
    }
   ],
   "source": [
    "duplicate_rows = df[df.duplicated()]\n",
    "if duplicate_rows.empty:\n",
    "    print('No duplicate rows found')\n",
    "else:\n",
    "    print('Duplicate rows found')\n",
    "    print(duplicate_rows)\n"
   ]
  },
  {
   "cell_type": "markdown",
   "metadata": {},
   "source": [
    "**4. What is the meaning of each columns ?**"
   ]
  },
  {
   "cell_type": "code",
   "execution_count": 39,
   "metadata": {},
   "outputs": [
    {
     "data": {
      "text/plain": [
       "Index(['Country', 'Year', 'Status', 'Life expectancy ', 'Adult Mortality',\n",
       "       'infant deaths', 'Alcohol', 'percentage expenditure', 'Hepatitis B',\n",
       "       'Measles', ' BMI ', 'under-five deaths', 'Polio', 'Total expenditure',\n",
       "       'Diphtheria', 'HIV/AIDS', 'GDP', 'Population', 'thinness 10-19 years',\n",
       "       'thinness 5-9 years', 'Income composition of resources', 'Schooling'],\n",
       "      dtype='object')"
      ]
     },
     "execution_count": 39,
     "metadata": {},
     "output_type": "execute_result"
    }
   ],
   "source": [
    "df.columns"
   ]
  },
  {
   "cell_type": "code",
   "execution_count": 40,
   "metadata": {},
   "outputs": [],
   "source": [
    "df.rename(columns={'Life expectancy ':'Life expectancy', ' BMI ': 'BMI'}, inplace=True)"
   ]
  },
  {
   "cell_type": "markdown",
   "metadata": {},
   "source": [
    "**Describe meaning of each column**"
   ]
  },
  {
   "cell_type": "markdown",
   "metadata": {},
   "source": [
    "| Column                           | Describe                                                                                         |\n",
    "|----------------------------------|--------------------------------------------------------------------------------------------------|\n",
    "| Country                          | Name of each country                                                                             |\n",
    "| Year                             | The year of data recording                                                                       |\n",
    "| Status                           | State of development of the country in the year under consideration (Developed, Developing)      |\n",
    "| Life expectancy                  | Average life expectancy of that country                                                          |\n",
    "| Adult Mortality                  | Adult Mortality Rates of both sexes (probability of dying between 15 and 60 years per 1000 population)                        |\n",
    "| Infant deaths                    | Number of Infant Deaths per 1000 population                                                      |\n",
    "| Alcohol                          | Alcohol, recorded per capita (15+) consumption (in litres of pure alcohol)                       |\n",
    "| Percentage expenditure           | Expenditure on health as a percentage of Gross Domestic Product per capita (%)                   |\n",
    "| Hepatitis B                      | Hepatitis B (HepB) immunization coverage among 1-year-olds (%)                                   |\n",
    "| Measles                          | Measles - number of reported cases per 1000 population                                           |\n",
    "| BMI                              | Average Body Mass Index of entire population                                                     |\n",
    "| Under-five deaths                | Number of under-five deaths per 1000 population                                                  |\n",
    "| Polio                            | Polio (Pol3) immunization coverage among 1-year-olds (%)                                         |\n",
    "| Total expenditure                | General government expenditure on health as a percentage of total government expenditure (%)                                |\n",
    "| Diphtheria                       | Diphtheria tetanus toxoid and pertussis (DTP3) immunization coverage among 1-year-olds (%)       |\n",
    "| HIV/AIDS                         | Deaths per 1 000 live births HIV/AIDS (0-4 years)                                                |\n",
    "| GDP                              | Gross Domestic Product per capita (in USD)                                                       |\n",
    "| Population                       | Population of the country                                                                        |\n",
    "| Thinness 10-19 years             | Prevalence of thinness among children and adolescents for Age 10 to 19 (% )                      |\n",
    "| Thinness 5-9 years               | Prevalence of thinness among children for Age 5 to 9(%)                                          |\n",
    "| Income composition of resources  | Human Development Index in terms of income composition of resources (index ranging from 0 to 1)  |\n",
    "| Schooling                        | Number of years of Schooling(years)                                                              |\n"
   ]
  },
  {
   "cell_type": "markdown",
   "metadata": {},
   "source": [
    "**5. What is the current data type of each columns? Are there any columns having inappropriate data types ?**"
   ]
  },
  {
   "cell_type": "code",
   "execution_count": 41,
   "metadata": {},
   "outputs": [
    {
     "data": {
      "text/plain": [
       "Country                             object\n",
       "Year                                 int64\n",
       "Status                              object\n",
       "Life expectancy                    float64\n",
       "Adult Mortality                    float64\n",
       "infant deaths                        int64\n",
       "Alcohol                            float64\n",
       "percentage expenditure             float64\n",
       "Hepatitis B                        float64\n",
       "Measles                              int64\n",
       "BMI                                float64\n",
       "under-five deaths                    int64\n",
       "Polio                              float64\n",
       "Total expenditure                  float64\n",
       "Diphtheria                         float64\n",
       "HIV/AIDS                           float64\n",
       "GDP                                float64\n",
       "Population                         float64\n",
       "thinness 10-19 years               float64\n",
       "thinness 5-9 years                 float64\n",
       "Income composition of resources    float64\n",
       "Schooling                          float64\n",
       "dtype: object"
      ]
     },
     "execution_count": 41,
     "metadata": {},
     "output_type": "execute_result"
    }
   ],
   "source": [
    "df.dtypes"
   ]
  },
  {
   "cell_type": "markdown",
   "metadata": {},
   "source": [
    "Overall, it can be seen that almost all columns have suitable data types."
   ]
  },
  {
   "cell_type": "markdown",
   "metadata": {},
   "source": [
    "**6. With each ``numerical column``, how are values distributed?**"
   ]
  },
  {
   "cell_type": "markdown",
   "metadata": {},
   "source": [
    "**a. What is the percentage of missing values?**"
   ]
  },
  {
   "cell_type": "code",
   "execution_count": 42,
   "metadata": {},
   "outputs": [
    {
     "name": "stdout",
     "output_type": "stream",
     "text": [
      "The percentage of missing values:\n",
      "- Year: 0.0%\n",
      "- Life expectancy: 0.34%\n",
      "- Adult Mortality: 0.34%\n",
      "- infant deaths: 0.0%\n",
      "- Alcohol: 6.6%\n",
      "- percentage expenditure: 0.0%\n",
      "- Hepatitis B: 18.82%\n",
      "- Measles: 0.0%\n",
      "- BMI: 1.16%\n",
      "- under-five deaths: 0.0%\n",
      "- Polio: 0.65%\n",
      "- Total expenditure: 7.69%\n",
      "- Diphtheria: 0.65%\n",
      "- HIV/AIDS: 0.0%\n",
      "- GDP: 15.25%\n",
      "- Population: 22.19%\n",
      "- thinness 10-19 years: 1.16%\n",
      "- thinness 5-9 years: 1.16%\n",
      "- Income composition of resources: 5.68%\n",
      "- Schooling: 5.55%\n"
     ]
    }
   ],
   "source": [
    "numeric_df = df.select_dtypes(include=['number'])\n",
    "missing_percentage = numeric_df.isnull().mean()\n",
    "\n",
    "print('The percentage of missing values:')\n",
    "for idx, missing in zip(missing_percentage.index, missing_percentage): \n",
    "    print(f'- {idx}: {round(missing * 100, 2)}%')"
   ]
  },
  {
   "cell_type": "markdown",
   "metadata": {},
   "source": [
    "**b. Min? max? Are they abnormal?**"
   ]
  },
  {
   "cell_type": "code",
   "execution_count": 43,
   "metadata": {},
   "outputs": [
    {
     "data": {
      "text/html": [
       "<div>\n",
       "<style scoped>\n",
       "    .dataframe tbody tr th:only-of-type {\n",
       "        vertical-align: middle;\n",
       "    }\n",
       "\n",
       "    .dataframe tbody tr th {\n",
       "        vertical-align: top;\n",
       "    }\n",
       "\n",
       "    .dataframe thead th {\n",
       "        text-align: right;\n",
       "    }\n",
       "</style>\n",
       "<table border=\"1\" class=\"dataframe\">\n",
       "  <thead>\n",
       "    <tr style=\"text-align: right;\">\n",
       "      <th></th>\n",
       "      <th>Year</th>\n",
       "      <th>Life expectancy</th>\n",
       "      <th>Adult Mortality</th>\n",
       "      <th>infant deaths</th>\n",
       "      <th>Alcohol</th>\n",
       "      <th>percentage expenditure</th>\n",
       "      <th>Hepatitis B</th>\n",
       "      <th>Measles</th>\n",
       "      <th>BMI</th>\n",
       "      <th>under-five deaths</th>\n",
       "      <th>Polio</th>\n",
       "      <th>Total expenditure</th>\n",
       "      <th>Diphtheria</th>\n",
       "      <th>HIV/AIDS</th>\n",
       "      <th>GDP</th>\n",
       "      <th>Population</th>\n",
       "      <th>thinness 10-19 years</th>\n",
       "      <th>thinness 5-9 years</th>\n",
       "      <th>Income composition of resources</th>\n",
       "      <th>Schooling</th>\n",
       "    </tr>\n",
       "  </thead>\n",
       "  <tbody>\n",
       "    <tr>\n",
       "      <th>count</th>\n",
       "      <td>2938.000000</td>\n",
       "      <td>2928.000000</td>\n",
       "      <td>2928.000000</td>\n",
       "      <td>2938.000000</td>\n",
       "      <td>2744.000000</td>\n",
       "      <td>2938.000000</td>\n",
       "      <td>2385.000000</td>\n",
       "      <td>2938.000000</td>\n",
       "      <td>2904.000000</td>\n",
       "      <td>2938.000000</td>\n",
       "      <td>2919.000000</td>\n",
       "      <td>2712.00000</td>\n",
       "      <td>2919.000000</td>\n",
       "      <td>2938.000000</td>\n",
       "      <td>2490.000000</td>\n",
       "      <td>2.286000e+03</td>\n",
       "      <td>2904.000000</td>\n",
       "      <td>2904.000000</td>\n",
       "      <td>2771.000000</td>\n",
       "      <td>2775.000000</td>\n",
       "    </tr>\n",
       "    <tr>\n",
       "      <th>mean</th>\n",
       "      <td>2007.518720</td>\n",
       "      <td>69.224932</td>\n",
       "      <td>164.796448</td>\n",
       "      <td>30.303948</td>\n",
       "      <td>4.602861</td>\n",
       "      <td>738.251295</td>\n",
       "      <td>80.940461</td>\n",
       "      <td>2419.592240</td>\n",
       "      <td>38.321247</td>\n",
       "      <td>42.035739</td>\n",
       "      <td>82.550188</td>\n",
       "      <td>5.93819</td>\n",
       "      <td>82.324084</td>\n",
       "      <td>1.742103</td>\n",
       "      <td>7483.158469</td>\n",
       "      <td>1.275338e+07</td>\n",
       "      <td>4.839704</td>\n",
       "      <td>4.870317</td>\n",
       "      <td>0.627551</td>\n",
       "      <td>11.992793</td>\n",
       "    </tr>\n",
       "    <tr>\n",
       "      <th>std</th>\n",
       "      <td>4.613841</td>\n",
       "      <td>9.523867</td>\n",
       "      <td>124.292079</td>\n",
       "      <td>117.926501</td>\n",
       "      <td>4.052413</td>\n",
       "      <td>1987.914858</td>\n",
       "      <td>25.070016</td>\n",
       "      <td>11467.272489</td>\n",
       "      <td>20.044034</td>\n",
       "      <td>160.445548</td>\n",
       "      <td>23.428046</td>\n",
       "      <td>2.49832</td>\n",
       "      <td>23.716912</td>\n",
       "      <td>5.077785</td>\n",
       "      <td>14270.169342</td>\n",
       "      <td>6.101210e+07</td>\n",
       "      <td>4.420195</td>\n",
       "      <td>4.508882</td>\n",
       "      <td>0.210904</td>\n",
       "      <td>3.358920</td>\n",
       "    </tr>\n",
       "    <tr>\n",
       "      <th>min</th>\n",
       "      <td>2000.000000</td>\n",
       "      <td>36.300000</td>\n",
       "      <td>1.000000</td>\n",
       "      <td>0.000000</td>\n",
       "      <td>0.010000</td>\n",
       "      <td>0.000000</td>\n",
       "      <td>1.000000</td>\n",
       "      <td>0.000000</td>\n",
       "      <td>1.000000</td>\n",
       "      <td>0.000000</td>\n",
       "      <td>3.000000</td>\n",
       "      <td>0.37000</td>\n",
       "      <td>2.000000</td>\n",
       "      <td>0.100000</td>\n",
       "      <td>1.681350</td>\n",
       "      <td>3.400000e+01</td>\n",
       "      <td>0.100000</td>\n",
       "      <td>0.100000</td>\n",
       "      <td>0.000000</td>\n",
       "      <td>0.000000</td>\n",
       "    </tr>\n",
       "    <tr>\n",
       "      <th>25%</th>\n",
       "      <td>2004.000000</td>\n",
       "      <td>63.100000</td>\n",
       "      <td>74.000000</td>\n",
       "      <td>0.000000</td>\n",
       "      <td>0.877500</td>\n",
       "      <td>4.685343</td>\n",
       "      <td>77.000000</td>\n",
       "      <td>0.000000</td>\n",
       "      <td>19.300000</td>\n",
       "      <td>0.000000</td>\n",
       "      <td>78.000000</td>\n",
       "      <td>4.26000</td>\n",
       "      <td>78.000000</td>\n",
       "      <td>0.100000</td>\n",
       "      <td>463.935626</td>\n",
       "      <td>1.957932e+05</td>\n",
       "      <td>1.600000</td>\n",
       "      <td>1.500000</td>\n",
       "      <td>0.493000</td>\n",
       "      <td>10.100000</td>\n",
       "    </tr>\n",
       "    <tr>\n",
       "      <th>50%</th>\n",
       "      <td>2008.000000</td>\n",
       "      <td>72.100000</td>\n",
       "      <td>144.000000</td>\n",
       "      <td>3.000000</td>\n",
       "      <td>3.755000</td>\n",
       "      <td>64.912906</td>\n",
       "      <td>92.000000</td>\n",
       "      <td>17.000000</td>\n",
       "      <td>43.500000</td>\n",
       "      <td>4.000000</td>\n",
       "      <td>93.000000</td>\n",
       "      <td>5.75500</td>\n",
       "      <td>93.000000</td>\n",
       "      <td>0.100000</td>\n",
       "      <td>1766.947595</td>\n",
       "      <td>1.386542e+06</td>\n",
       "      <td>3.300000</td>\n",
       "      <td>3.300000</td>\n",
       "      <td>0.677000</td>\n",
       "      <td>12.300000</td>\n",
       "    </tr>\n",
       "    <tr>\n",
       "      <th>75%</th>\n",
       "      <td>2012.000000</td>\n",
       "      <td>75.700000</td>\n",
       "      <td>228.000000</td>\n",
       "      <td>22.000000</td>\n",
       "      <td>7.702500</td>\n",
       "      <td>441.534144</td>\n",
       "      <td>97.000000</td>\n",
       "      <td>360.250000</td>\n",
       "      <td>56.200000</td>\n",
       "      <td>28.000000</td>\n",
       "      <td>97.000000</td>\n",
       "      <td>7.49250</td>\n",
       "      <td>97.000000</td>\n",
       "      <td>0.800000</td>\n",
       "      <td>5910.806335</td>\n",
       "      <td>7.420359e+06</td>\n",
       "      <td>7.200000</td>\n",
       "      <td>7.200000</td>\n",
       "      <td>0.779000</td>\n",
       "      <td>14.300000</td>\n",
       "    </tr>\n",
       "    <tr>\n",
       "      <th>max</th>\n",
       "      <td>2015.000000</td>\n",
       "      <td>89.000000</td>\n",
       "      <td>723.000000</td>\n",
       "      <td>1800.000000</td>\n",
       "      <td>17.870000</td>\n",
       "      <td>19479.911610</td>\n",
       "      <td>99.000000</td>\n",
       "      <td>212183.000000</td>\n",
       "      <td>87.300000</td>\n",
       "      <td>2500.000000</td>\n",
       "      <td>99.000000</td>\n",
       "      <td>17.60000</td>\n",
       "      <td>99.000000</td>\n",
       "      <td>50.600000</td>\n",
       "      <td>119172.741800</td>\n",
       "      <td>1.293859e+09</td>\n",
       "      <td>27.700000</td>\n",
       "      <td>28.600000</td>\n",
       "      <td>0.948000</td>\n",
       "      <td>20.700000</td>\n",
       "    </tr>\n",
       "  </tbody>\n",
       "</table>\n",
       "</div>"
      ],
      "text/plain": [
       "              Year  Life expectancy  Adult Mortality  infant deaths  \\\n",
       "count  2938.000000      2928.000000      2928.000000    2938.000000   \n",
       "mean   2007.518720        69.224932       164.796448      30.303948   \n",
       "std       4.613841         9.523867       124.292079     117.926501   \n",
       "min    2000.000000        36.300000         1.000000       0.000000   \n",
       "25%    2004.000000        63.100000        74.000000       0.000000   \n",
       "50%    2008.000000        72.100000       144.000000       3.000000   \n",
       "75%    2012.000000        75.700000       228.000000      22.000000   \n",
       "max    2015.000000        89.000000       723.000000    1800.000000   \n",
       "\n",
       "           Alcohol  percentage expenditure  Hepatitis B        Measles  \\\n",
       "count  2744.000000             2938.000000  2385.000000    2938.000000   \n",
       "mean      4.602861              738.251295    80.940461    2419.592240   \n",
       "std       4.052413             1987.914858    25.070016   11467.272489   \n",
       "min       0.010000                0.000000     1.000000       0.000000   \n",
       "25%       0.877500                4.685343    77.000000       0.000000   \n",
       "50%       3.755000               64.912906    92.000000      17.000000   \n",
       "75%       7.702500              441.534144    97.000000     360.250000   \n",
       "max      17.870000            19479.911610    99.000000  212183.000000   \n",
       "\n",
       "               BMI  under-five deaths        Polio  Total expenditure  \\\n",
       "count  2904.000000        2938.000000  2919.000000         2712.00000   \n",
       "mean     38.321247          42.035739    82.550188            5.93819   \n",
       "std      20.044034         160.445548    23.428046            2.49832   \n",
       "min       1.000000           0.000000     3.000000            0.37000   \n",
       "25%      19.300000           0.000000    78.000000            4.26000   \n",
       "50%      43.500000           4.000000    93.000000            5.75500   \n",
       "75%      56.200000          28.000000    97.000000            7.49250   \n",
       "max      87.300000        2500.000000    99.000000           17.60000   \n",
       "\n",
       "        Diphtheria     HIV/AIDS            GDP    Population  \\\n",
       "count  2919.000000  2938.000000    2490.000000  2.286000e+03   \n",
       "mean     82.324084     1.742103    7483.158469  1.275338e+07   \n",
       "std      23.716912     5.077785   14270.169342  6.101210e+07   \n",
       "min       2.000000     0.100000       1.681350  3.400000e+01   \n",
       "25%      78.000000     0.100000     463.935626  1.957932e+05   \n",
       "50%      93.000000     0.100000    1766.947595  1.386542e+06   \n",
       "75%      97.000000     0.800000    5910.806335  7.420359e+06   \n",
       "max      99.000000    50.600000  119172.741800  1.293859e+09   \n",
       "\n",
       "       thinness 10-19 years  thinness 5-9 years  \\\n",
       "count           2904.000000         2904.000000   \n",
       "mean               4.839704            4.870317   \n",
       "std                4.420195            4.508882   \n",
       "min                0.100000            0.100000   \n",
       "25%                1.600000            1.500000   \n",
       "50%                3.300000            3.300000   \n",
       "75%                7.200000            7.200000   \n",
       "max               27.700000           28.600000   \n",
       "\n",
       "       Income composition of resources    Schooling  \n",
       "count                      2771.000000  2775.000000  \n",
       "mean                          0.627551    11.992793  \n",
       "std                           0.210904     3.358920  \n",
       "min                           0.000000     0.000000  \n",
       "25%                           0.493000    10.100000  \n",
       "50%                           0.677000    12.300000  \n",
       "75%                           0.779000    14.300000  \n",
       "max                           0.948000    20.700000  "
      ]
     },
     "execution_count": 43,
     "metadata": {},
     "output_type": "execute_result"
    }
   ],
   "source": [
    "numeric_df.describe()"
   ]
  },
  {
   "cell_type": "markdown",
   "metadata": {},
   "source": [
    "**7. With each ``categorical column``, how are values distributed?**"
   ]
  },
  {
   "cell_type": "markdown",
   "metadata": {},
   "source": [
    "**a. What is the percentage of missing values?**"
   ]
  },
  {
   "cell_type": "code",
   "execution_count": 44,
   "metadata": {},
   "outputs": [
    {
     "name": "stdout",
     "output_type": "stream",
     "text": [
      "The percentage of missing values:\n",
      "- Country: 0.0%\n",
      "- Status: 0.0%\n"
     ]
    }
   ],
   "source": [
    "categorical_df = df.select_dtypes(include=['object'])\n",
    "missing_percentage = categorical_df.isnull().mean()\n",
    "\n",
    "print('The percentage of missing values:')\n",
    "for idx, missing in zip(missing_percentage.index, missing_percentage): \n",
    "    print(f'- {idx}: {round(missing * 100, 2)}%')"
   ]
  },
  {
   "cell_type": "markdown",
   "metadata": {},
   "source": [
    "**b. How many different values? Are they abnormal?**"
   ]
  },
  {
   "cell_type": "code",
   "execution_count": 45,
   "metadata": {},
   "outputs": [
    {
     "name": "stdout",
     "output_type": "stream",
     "text": [
      "Column: Country\n",
      "- Number of unique values: 193\n",
      "-Some unique values: ['Afghanistan' 'Albania' 'Algeria' 'Angola' 'Antigua and Barbuda']\n",
      "\n",
      "Column: Status\n",
      "- Number of unique values: 2\n",
      "-Some unique values: ['Developed' 'Developing']\n",
      "\n"
     ]
    }
   ],
   "source": [
    "for col in categorical_df.columns:\n",
    "    print(f'Column: {col}')\n",
    "    unique_values = np.unique(categorical_df[col])\n",
    "    print(f'- Number of unique values: {len(unique_values)}')\n",
    "    print(f'-Some unique values: {unique_values[:5]}\\n')"
   ]
  },
  {
   "cell_type": "markdown",
   "metadata": {},
   "source": [
    "**9. Fill in the ``missing data`` currently blank in the dataset.**"
   ]
  },
  {
   "cell_type": "markdown",
   "metadata": {},
   "source": [
    "- For the current demographic dataset, it can be observed that there are numerous columns with missing data. \n",
    "\n",
    "- Surprisingly, three columns, namely 'Hepatitis B,' 'GDP,' and 'Population,' exhibit a notably high rate of missing data. According to the data description, this is attributed to certain countries such as Vanuatu, Tonga, Togo, Cabo Verde, etc., not disclosing and not being extensively researched.\n",
    "\n",
    "- Before diving into how to fill in missing data, we will learn more about the nature of the missing data for each corresponding column. In it, we will conduct tests with blank data for each column and corresponding country. Then count the number of data blanks to know the number of years missing data for the corresponding column and country to calculate the method.\n",
    "\n",
    "- In this section, we only consider these 3 columns because the data in these 3 columns has a too high missing rate and we will focus on these 3 columns. For the other columns, although we do not consider them too deeply, they are I will still fill them."
   ]
  },
  {
   "cell_type": "markdown",
   "metadata": {},
   "source": [
    "**Checking \"Hepatitis B\" column**"
   ]
  },
  {
   "cell_type": "code",
   "execution_count": 46,
   "metadata": {},
   "outputs": [
    {
     "name": "stdout",
     "output_type": "stream",
     "text": [
      "Country\n",
      "Denmark                                                 16\n",
      "United Kingdom of Great Britain and Northern Ireland    16\n",
      "Norway                                                  16\n",
      "Japan                                                   16\n",
      "Switzerland                                             16\n",
      "Finland                                                 16\n",
      "Slovenia                                                16\n",
      "Iceland                                                 16\n",
      "Hungary                                                 16\n",
      "South Sudan                                             15\n",
      "Equatorial Guinea                                       14\n",
      "Somalia                                                 13\n",
      "Haiti                                                   13\n",
      "Sweden                                                  11\n",
      "Netherlands                                             11\n",
      "Namibia                                                 10\n",
      "Ireland                                                 10\n",
      "Guinea-Bissau                                            9\n",
      "Central African Republic                                 9\n",
      "Niger                                                    9\n",
      "Liberia                                                  8\n",
      "Chad                                                     8\n",
      "Timor-Leste                                              8\n",
      "Togo                                                     8\n",
      "Djibouti                                                 7\n",
      "Guinea                                                   7\n",
      "Ethiopia                                                 7\n",
      "Croatia                                                  7\n",
      "Angola                                                   7\n",
      "Democratic Republic of the Congo                         7\n",
      "Congo                                                    7\n",
      "Sierra Leone                                             7\n",
      "Chile                                                    6\n",
      "Montenegro                                               6\n",
      "Burkina Faso                                             6\n",
      "Cambodia                                                 6\n",
      "Mauritania                                               5\n",
      "The former Yugoslav republic of Macedonia                5\n",
      "Suriname                                                 5\n",
      "Sudan                                                    5\n",
      "Cameroon                                                 5\n",
      "Nigeria                                                  5\n",
      "Guatemala                                                5\n",
      "Gabon                                                    5\n",
      "Zambia                                                   5\n",
      "Serbia                                                   4\n",
      "Senegal                                                  4\n",
      "Algeria                                                  4\n",
      "India                                                    4\n",
      "Bosnia and Herzegovina                                   4\n",
      "Burundi                                                  4\n",
      "Estonia                                                  4\n",
      "Saint Vincent and the Grenadines                         3\n",
      "Democratic People's Republic of Korea                    3\n",
      "Viet Nam                                                 3\n",
      "Bangladesh                                               3\n",
      "Sri Lanka                                                3\n",
      "Canada                                                   3\n",
      "Comoros                                                  3\n",
      "Sao Tome and Principe                                    3\n",
      "Jamaica                                                  3\n",
      "Peru                                                     3\n",
      "Paraguay                                                 3\n",
      "Pakistan                                                 3\n",
      "Lao People's Democratic Republic                         3\n",
      "Lesotho                                                  3\n",
      "Nepal                                                    3\n",
      "Myanmar                                                  3\n",
      "Malta                                                    3\n",
      "Mali                                                     3\n",
      "Czechia                                                  2\n",
      "Benin                                                    2\n",
      "Uzbekistan                                               2\n",
      "United Republic of Tanzania                              2\n",
      "Uganda                                                   2\n",
      "Turkmenistan                                             2\n",
      "Trinidad and Tobago                                      2\n",
      "Argentina                                                2\n",
      "Azerbaijan                                               2\n",
      "Tajikistan                                               2\n",
      "Madagascar                                               2\n",
      "Malawi                                                   2\n",
      "Eritrea                                                  2\n",
      "Cabo Verde                                               2\n",
      "Saint Lucia                                              2\n",
      "Rwanda                                                   2\n",
      "Ghana                                                    2\n",
      "Kenya                                                    2\n",
      "Barbados                                                 1\n",
      "Côte d'Ivoire                                            1\n",
      "Bahamas                                                  1\n",
      "Guyana                                                   1\n",
      "Australia                                                1\n",
      "Grenada                                                  1\n",
      "Mozambique                                               1\n",
      "Antigua and Barbuda                                      1\n",
      "Russian Federation                                       1\n",
      "Panama                                                   1\n",
      "Name: count, dtype: int64\n"
     ]
    }
   ],
   "source": [
    "countries_with_null_hepatitis_B = df.loc[df['Hepatitis B'].isnull(), 'Country']\n",
    "countries_count_hepatitis_B = countries_with_null_hepatitis_B.value_counts()\n",
    "pd.set_option('display.max_rows', None)\n",
    "print(countries_count_hepatitis_B)"
   ]
  },
  {
   "cell_type": "markdown",
   "metadata": {},
   "source": [
    "**Checking \"GDP\" column**"
   ]
  },
  {
   "cell_type": "code",
   "execution_count": 47,
   "metadata": {},
   "outputs": [
    {
     "name": "stdout",
     "output_type": "stream",
     "text": [
      "Country\n",
      "Bahamas                                                 16\n",
      "Micronesia (Federated States of)                        16\n",
      "Viet Nam                                                16\n",
      "Venezuela (Bolivarian Republic of)                      16\n",
      "United States of America                                16\n",
      "United Republic of Tanzania                             16\n",
      "United Kingdom of Great Britain and Northern Ireland    16\n",
      "The former Yugoslav republic of Macedonia               16\n",
      "Slovakia                                                16\n",
      "Saint Vincent and the Grenadines                        16\n",
      "Saint Lucia                                             16\n",
      "Republic of Moldova                                     16\n",
      "Republic of Korea                                       16\n",
      "Bolivia (Plurinational State of)                        16\n",
      "Yemen                                                   16\n",
      "Gambia                                                  16\n",
      "Iran (Islamic Republic of)                              16\n",
      "Egypt                                                   16\n",
      "Lao People's Democratic Republic                        16\n",
      "Czechia                                                 16\n",
      "Democratic People's Republic of Korea                   16\n",
      "Democratic Republic of the Congo                        16\n",
      "Kyrgyzstan                                              16\n",
      "Congo                                                   16\n",
      "Côte d'Ivoire                                           16\n",
      "Somalia                                                 13\n",
      "South Sudan                                              8\n",
      "Syrian Arab Republic                                     8\n",
      "Iraq                                                     4\n",
      "Eritrea                                                  4\n",
      "Libya                                                    4\n",
      "Cook Islands                                             1\n",
      "Sao Tome and Principe                                    1\n",
      "San Marino                                               1\n",
      "Saint Kitts and Nevis                                    1\n",
      "Niue                                                     1\n",
      "Monaco                                                   1\n",
      "Papua New Guinea                                         1\n",
      "Name: count, dtype: int64\n"
     ]
    }
   ],
   "source": [
    "countries_with_null_gdp = df.loc[df['GDP'].isnull(), 'Country']\n",
    "countries_count_gdp = countries_with_null_gdp.value_counts()\n",
    "pd.set_option('display.max_rows', None)\n",
    "print(countries_count_gdp)"
   ]
  },
  {
   "cell_type": "markdown",
   "metadata": {},
   "source": [
    "**Checking \"Population\" column**"
   ]
  },
  {
   "cell_type": "code",
   "execution_count": 48,
   "metadata": {},
   "outputs": [
    {
     "name": "stdout",
     "output_type": "stream",
     "text": [
      "Country\n",
      "Antigua and Barbuda                                     16\n",
      "Singapore                                               16\n",
      "New Zealand                                             16\n",
      "Oman                                                    16\n",
      "Qatar                                                   16\n",
      "Republic of Korea                                       16\n",
      "Republic of Moldova                                     16\n",
      "Saint Lucia                                             16\n",
      "Saint Vincent and the Grenadines                        16\n",
      "Saudi Arabia                                            16\n",
      "Slovakia                                                16\n",
      "Libya                                                   16\n",
      "Somalia                                                 16\n",
      "The former Yugoslav republic of Macedonia               16\n",
      "United Arab Emirates                                    16\n",
      "United Kingdom of Great Britain and Northern Ireland    16\n",
      "United Republic of Tanzania                             16\n",
      "United States of America                                16\n",
      "Venezuela (Bolivarian Republic of)                      16\n",
      "Viet Nam                                                16\n",
      "Bahamas                                                 16\n",
      "Micronesia (Federated States of)                        16\n",
      "Lao People's Democratic Republic                        16\n",
      "Egypt                                                   16\n",
      "Bahrain                                                 16\n",
      "Barbados                                                16\n",
      "Bolivia (Plurinational State of)                        16\n",
      "Brunei Darussalam                                       16\n",
      "Côte d'Ivoire                                           16\n",
      "Congo                                                   16\n",
      "Cuba                                                    16\n",
      "Czechia                                                 16\n",
      "Democratic People's Republic of Korea                   16\n",
      "Democratic Republic of the Congo                        16\n",
      "Yemen                                                   16\n",
      "Gambia                                                  16\n",
      "Grenada                                                 16\n",
      "Iran (Islamic Republic of)                              16\n",
      "Kuwait                                                  16\n",
      "Kyrgyzstan                                              16\n",
      "Eritrea                                                  4\n",
      "Marshall Islands                                         1\n",
      "San Marino                                               1\n",
      "Saint Kitts and Nevis                                    1\n",
      "Cook Islands                                             1\n",
      "Niue                                                     1\n",
      "Nauru                                                    1\n",
      "Monaco                                                   1\n",
      "Dominica                                                 1\n",
      "Name: count, dtype: int64\n"
     ]
    }
   ],
   "source": [
    "countries_with_null_population = df.loc[df['Population'].isnull(), 'Country']\n",
    "countries_count_population = countries_with_null_population.value_counts()\n",
    "pd.set_option('display.max_rows', None)\n",
    "print(countries_count_population)"
   ]
  },
  {
   "cell_type": "markdown",
   "metadata": {},
   "source": [
    "- In short, it can be seen that, in case of missing data, there will be many different scenarios. As this involves data from each country from 2000 to 2015, over these 16 years some countries are only missing a few data points, while others may be missing entire columns throughout. 16 years.\n",
    "\n",
    "- To fill in these missing values, we suggest using the following methods:\n",
    "\n",
    "- First: for countries that have columns of missing values ​​for only a few years and have values ​​in the corresponding attribute columns in later/previous years, we will use backward and forward fill for the cells This is to ensure that the error rate is not too significant.\n",
    "\n",
    "- Second: use the method to fill the remaining blank cells with the median value. Here, these blank cells will be the cells for countries with no information during the 16 years of testing.\n",
    "\n",
    "- The reason for this is that instead of using the median method from the beginning, it will not completely ensure the accuracy of the data and can lead to large errors. Therefore, using backward and forward will be more or less accurate in some cells."
   ]
  },
  {
   "cell_type": "markdown",
   "metadata": {},
   "source": [
    "---"
   ]
  },
  {
   "cell_type": "markdown",
   "metadata": {},
   "source": [
    "**Fill NaN values**"
   ]
  },
  {
   "cell_type": "code",
   "execution_count": 49,
   "metadata": {},
   "outputs": [],
   "source": [
    "country_list = df.Country.unique() # get country in dataset\n",
    "\n",
    "# get list columns to fill missing value\n",
    "fill_list = ['Life expectancy','Adult Mortality','Alcohol','Hepatitis B','BMI','Polio',\n",
    "            'Total expenditure','Diphtheria','GDP','Population','thinness 10-19 years',\n",
    "            'thinness 5-9 years','Income composition of resources','Schooling']"
   ]
  },
  {
   "cell_type": "markdown",
   "metadata": {},
   "source": [
    "**Filling using Forward and Backward**"
   ]
  },
  {
   "cell_type": "code",
   "execution_count": 50,
   "metadata": {},
   "outputs": [],
   "source": [
    "for country in country_list:\n",
    "    for col in fill_list:\n",
    "        \n",
    "        #fill missing value with backward and forward\n",
    "        df.loc[df['Country'] == country, col] = df.loc[df['Country'] == country, col].fillna(method='ffill').fillna(method='bfill')"
   ]
  },
  {
   "cell_type": "markdown",
   "metadata": {},
   "source": [
    "- After this step, countries with fewer than 16 data points in a property column will be filled (if sufficient data is available for 16 years). Additionally, countries with only 1 or a few data points cannot be filled.\n",
    "\n",
    "- Then, we will fill another missing value cell by using Median value."
   ]
  },
  {
   "cell_type": "markdown",
   "metadata": {},
   "source": [
    "**Filling using Median value**"
   ]
  },
  {
   "cell_type": "code",
   "execution_count": 54,
   "metadata": {},
   "outputs": [],
   "source": [
    "for col in fill_list:\n",
    "    df[col].fillna(df[col].median(), inplace=True)"
   ]
  },
  {
   "cell_type": "code",
   "execution_count": 55,
   "metadata": {},
   "outputs": [
    {
     "data": {
      "text/plain": [
       "Country                            0\n",
       "Year                               0\n",
       "Status                             0\n",
       "Life expectancy                    0\n",
       "Adult Mortality                    0\n",
       "infant deaths                      0\n",
       "Alcohol                            0\n",
       "percentage expenditure             0\n",
       "Hepatitis B                        0\n",
       "Measles                            0\n",
       "BMI                                0\n",
       "under-five deaths                  0\n",
       "Polio                              0\n",
       "Total expenditure                  0\n",
       "Diphtheria                         0\n",
       "HIV/AIDS                           0\n",
       "GDP                                0\n",
       "Population                         0\n",
       "thinness 10-19 years               0\n",
       "thinness 5-9 years                 0\n",
       "Income composition of resources    0\n",
       "Schooling                          0\n",
       "dtype: int64"
      ]
     },
     "execution_count": 55,
     "metadata": {},
     "output_type": "execute_result"
    }
   ],
   "source": [
    "# Verifying null-values after applying above methods.\n",
    "df.isnull().sum()"
   ]
  },
  {
   "cell_type": "markdown",
   "metadata": {},
   "source": [
    "## **Quickview of the data** <a name=\"quickview\"></a>\n",
    "\n",
    "// Draw some figures..."
   ]
  },
  {
   "cell_type": "markdown",
   "metadata": {},
   "source": [
    "---"
   ]
  },
  {
   "cell_type": "markdown",
   "metadata": {},
   "source": [
    "## **Questions** <a name=\"question\"></a>"
   ]
  },
  {
   "cell_type": "markdown",
   "metadata": {},
   "source": [
    "#### After having an overview of the data, we see a number of issues that need attention:\n",
    "- Question 1:\n",
    "- Question 2:\n",
    "- Question 3:\n",
    "- Question 4:\n",
    "- Question 5:\n",
    "- Question 6:"
   ]
  },
  {
   "cell_type": "markdown",
   "metadata": {},
   "source": [
    "**Question 1: ...**\n",
    "- **Meaning**\n",
    "- **Idea**"
   ]
  },
  {
   "cell_type": "code",
   "execution_count": 84,
   "metadata": {},
   "outputs": [],
   "source": [
    "##TODO"
   ]
  },
  {
   "cell_type": "markdown",
   "metadata": {},
   "source": [
    "**Question 2: ...**\n",
    "- **Meaning**\n",
    "- **Idea**"
   ]
  },
  {
   "cell_type": "code",
   "execution_count": 85,
   "metadata": {},
   "outputs": [],
   "source": [
    "##TODO"
   ]
  },
  {
   "cell_type": "markdown",
   "metadata": {},
   "source": [
    "**Question 3: ...**\n",
    "- **Meaning**\n",
    "- **Idea**"
   ]
  },
  {
   "cell_type": "code",
   "execution_count": 86,
   "metadata": {},
   "outputs": [],
   "source": [
    "##TODO"
   ]
  },
  {
   "cell_type": "markdown",
   "metadata": {},
   "source": [
    "**Question 4: ...**\n",
    "- **Meaning**\n",
    "- **Idea**"
   ]
  },
  {
   "cell_type": "code",
   "execution_count": 87,
   "metadata": {},
   "outputs": [],
   "source": [
    "##TODO"
   ]
  },
  {
   "cell_type": "markdown",
   "metadata": {},
   "source": [
    "**Question 5: ...**\n",
    "- **Meaning**\n",
    "- **Idea**"
   ]
  },
  {
   "cell_type": "code",
   "execution_count": 88,
   "metadata": {},
   "outputs": [],
   "source": [
    "##TODO"
   ]
  },
  {
   "cell_type": "markdown",
   "metadata": {},
   "source": [
    "**Question 6: ...**\n",
    "- **Meaning**\n",
    "- **Idea**"
   ]
  },
  {
   "cell_type": "code",
   "execution_count": 89,
   "metadata": {},
   "outputs": [],
   "source": [
    "##TODO"
   ]
  },
  {
   "cell_type": "markdown",
   "metadata": {},
   "source": [
    "---"
   ]
  },
  {
   "cell_type": "markdown",
   "metadata": {},
   "source": [
    "## **Reflection** <a name=\"reflection\"></a>\n",
    "\n",
    "#### **Difficulties encountered:**\n",
    "- Tran Huy Ban:\n",
    "    - a\n",
    "    - b\n",
    "    - c\n",
    "- Nguyen Minh Quan:\n",
    "    - a\n",
    "    - b\n",
    "    - c\n",
    "\n",
    "#### **Knowledge learned:**\n",
    "- Tran Huy Ban:\n",
    "    - a\n",
    "    - b\n",
    "    - c\n",
    "- Nguyen Minh Quan:\n",
    "    - a\n",
    "    - b\n",
    "    - c\n",
    "\n",
    "#### **What would we do if we had more time?**\n",
    "-\n",
    "-\n",
    "-"
   ]
  },
  {
   "cell_type": "markdown",
   "metadata": {},
   "source": [
    "---"
   ]
  },
  {
   "cell_type": "markdown",
   "metadata": {},
   "source": [
    "## **References** <a name=\"references\"></a>"
   ]
  },
  {
   "cell_type": "markdown",
   "metadata": {},
   "source": []
  }
 ],
 "metadata": {
  "kernelspec": {
   "display_name": "Python 3",
   "language": "python",
   "name": "python3"
  },
  "language_info": {
   "codemirror_mode": {
    "name": "ipython",
    "version": 3
   },
   "file_extension": ".py",
   "mimetype": "text/x-python",
   "name": "python",
   "nbconvert_exporter": "python",
   "pygments_lexer": "ipython3",
   "version": "3.11.4"
  }
 },
 "nbformat": 4,
 "nbformat_minor": 2
}
